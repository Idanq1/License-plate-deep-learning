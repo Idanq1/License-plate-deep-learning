{
 "cells": [
  {
   "cell_type": "code",
   "execution_count": 1,
   "id": "c81f2599-8099-4425-8656-63d90ae0f8dd",
   "metadata": {},
   "outputs": [],
   "source": [
    "import random\n",
    "import shutil\n",
    "import os"
   ]
  },
  {
   "cell_type": "code",
   "execution_count": 2,
   "id": "c19a72b3-15d5-4675-8096-85835451c221",
   "metadata": {},
   "outputs": [],
   "source": [
    "def make_paths(base_path):\n",
    "    os.mkdir(f\"{base_path}\\\\test\")\n",
    "    os.mkdir(f\"{base_path}\\\\test\\\\images\")\n",
    "    os.mkdir(f\"{base_path}\\\\test\\\\annots\")\n",
    "    os.mkdir(f\"{base_path}\\\\train\")\n",
    "    os.mkdir(f\"{base_path}\\\\train\\\\images\")\n",
    "    os.mkdir(f\"{base_path}\\\\train\\\\annots\")"
   ]
  },
  {
   "cell_type": "code",
   "execution_count": 41,
   "id": "0d87edd0-e20f-48b2-b092-c66876ed40eb",
   "metadata": {},
   "outputs": [],
   "source": [
    "def copy_files(images_path, annots_path, base_path, ratio=0.15):\n",
    "    images = os.listdir(images_path)\n",
    "    print(images)\n",
    "    random.shuffle(images)\n",
    "    to_move = int(len(images) * ratio)\n",
    "    print(to_move)\n",
    "    i = 0\n",
    "    for image in images:\n",
    "        basename = os.path.splitext(image)[0]\n",
    "        image_path = f\"{images_path}\\\\{image}\"\n",
    "        xml_path = f\"{annots_path}\\\\{basename}.xml\"\n",
    "        if i <= to_move:\n",
    "            shutil.copy(image_path, f\"{base_path}\\\\Other test images\")\n",
    "            shutil.copy(xml_path, f\"{base_path}\\\\Other test annotations\")\n",
    "            i += 1\n",
    "        else:\n",
    "            shutil.copy(image_path, f\"{base_path}\\\\Other train images\")\n",
    "            shutil.copy(xml_path, f\"{base_path}\\\\Other train annotations\")\n"
   ]
  },
  {
   "cell_type": "code",
   "execution_count": null,
   "id": "89f8b9cd-b5ea-4450-ab1d-6b0cafc6dd73",
   "metadata": {},
   "outputs": [],
   "source": [
    "base_path = r\"custom data\\images\"\n",
    "images_path = r\"custom data\\images\\images\"\n",
    "annots_path = r\"custom data\\images\\annotations\"\n",
    "copy_files(images_path, annots_path, base_path)"
   ]
  }
 ],
 "metadata": {
  "kernelspec": {
   "display_name": "Python 3 (ipykernel)",
   "language": "python",
   "name": "python3"
  },
  "language_info": {
   "codemirror_mode": {
    "name": "ipython",
    "version": 3
   },
   "file_extension": ".py",
   "mimetype": "text/x-python",
   "name": "python",
   "nbconvert_exporter": "python",
   "pygments_lexer": "ipython3",
   "version": "3.10.4"
  }
 },
 "nbformat": 4,
 "nbformat_minor": 5
}
