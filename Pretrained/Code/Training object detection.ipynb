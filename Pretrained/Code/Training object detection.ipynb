{
 "cells": [
  {
   "cell_type": "code",
   "execution_count": 1,
   "id": "0f1e415c-11c6-4e35-9a5c-467fef9ba593",
   "metadata": {},
   "outputs": [],
   "source": [
    "import os"
   ]
  },
  {
   "cell_type": "code",
   "execution_count": null,
   "id": "c1b4a3d6-cedf-443c-a236-7199d9944815",
   "metadata": {},
   "outputs": [],
   "source": [
    "CUSTOM_MODEL_NAME = \"mobilenet_512x512\"\n",
    "PRETRAINED_MODEL_NAME = \"centernet_mobilenetv2fpn_512x512_coco17_od\"\n",
    "PRETRAINED_MODEL_URL = http://download.tensorflow.org/models/object_detection/tf2/20210210/centernet_mobilenetv2fpn_512x512_coco17_od.tar.gz\n",
    "TF_RECORD_SCRIPT_NAME = \"generate_tfrecord.py\"\n",
    "LABEL_MAP_NAME = \"label_map.pbtxt\""
   ]
  }
 ],
 "metadata": {
  "kernelspec": {
   "display_name": "Python 3 (ipykernel)",
   "language": "python",
   "name": "python3"
  },
  "language_info": {
   "codemirror_mode": {
    "name": "ipython",
    "version": 3
   },
   "file_extension": ".py",
   "mimetype": "text/x-python",
   "name": "python",
   "nbconvert_exporter": "python",
   "pygments_lexer": "ipython3",
   "version": "3.10.4"
  }
 },
 "nbformat": 4,
 "nbformat_minor": 5
}
